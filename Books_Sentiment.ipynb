{
 "cells": [
  {
   "cell_type": "markdown",
   "id": "19197d12",
   "metadata": {},
   "source": [
    "### Import Json and Load File"
   ]
  },
  {
   "cell_type": "code",
   "execution_count": 1,
   "id": "0764c8bb",
   "metadata": {},
   "outputs": [
    {
     "data": {
      "text/html": [
       "<div>\n",
       "<style scoped>\n",
       "    .dataframe tbody tr th:only-of-type {\n",
       "        vertical-align: middle;\n",
       "    }\n",
       "\n",
       "    .dataframe tbody tr th {\n",
       "        vertical-align: top;\n",
       "    }\n",
       "\n",
       "    .dataframe thead th {\n",
       "        text-align: right;\n",
       "    }\n",
       "</style>\n",
       "<table border=\"1\" class=\"dataframe\">\n",
       "  <thead>\n",
       "    <tr style=\"text-align: right;\">\n",
       "      <th></th>\n",
       "      <th>reviewText</th>\n",
       "      <th>overall</th>\n",
       "    </tr>\n",
       "  </thead>\n",
       "  <tbody>\n",
       "    <tr>\n",
       "      <th>0</th>\n",
       "      <td>I bought both boxed sets, books 1-5.  Really a...</td>\n",
       "      <td>5.0</td>\n",
       "    </tr>\n",
       "    <tr>\n",
       "      <th>1</th>\n",
       "      <td>I enjoyed this short book. But it was way way ...</td>\n",
       "      <td>3.0</td>\n",
       "    </tr>\n",
       "    <tr>\n",
       "      <th>2</th>\n",
       "      <td>I love Nicholas Sparks. I&amp;#8217;ve read everyt...</td>\n",
       "      <td>4.0</td>\n",
       "    </tr>\n",
       "    <tr>\n",
       "      <th>3</th>\n",
       "      <td>I really enjoyed this adventure and look forwa...</td>\n",
       "      <td>4.0</td>\n",
       "    </tr>\n",
       "    <tr>\n",
       "      <th>4</th>\n",
       "      <td>It was a decent read.. typical story line. Not...</td>\n",
       "      <td>3.0</td>\n",
       "    </tr>\n",
       "  </tbody>\n",
       "</table>\n",
       "</div>"
      ],
      "text/plain": [
       "                                          reviewText  overall\n",
       "0  I bought both boxed sets, books 1-5.  Really a...      5.0\n",
       "1  I enjoyed this short book. But it was way way ...      3.0\n",
       "2  I love Nicholas Sparks. I&#8217;ve read everyt...      4.0\n",
       "3  I really enjoyed this adventure and look forwa...      4.0\n",
       "4  It was a decent read.. typical story line. Not...      3.0"
      ]
     },
     "execution_count": 1,
     "metadata": {},
     "output_type": "execute_result"
    }
   ],
   "source": [
    "from collections import Counter\n",
    "\n",
    "import pandas as pd\n",
    "import numpy as np\n",
    "import json\n",
    "import warnings\n",
    "warnings.filterwarnings('ignore')\n",
    "\n",
    "file = 'Books_small_10000.json'\n",
    "\n",
    "reviews = []\n",
    "with open(file) as f:\n",
    "    for line in f:\n",
    "        review = json.loads(line)\n",
    "        reviews.append(review)\n",
    "        \n",
    "books_df = pd.DataFrame(reviews)\n",
    "books_df = books_df[['reviewText', 'overall']]\n",
    "books_df.head()"
   ]
  },
  {
   "cell_type": "markdown",
   "id": "e9efe702",
   "metadata": {},
   "source": [
    "### Preprocessing Data"
   ]
  },
  {
   "cell_type": "code",
   "execution_count": 2,
   "id": "d7ab6a7b",
   "metadata": {},
   "outputs": [
    {
     "data": {
      "text/html": [
       "<div>\n",
       "<style scoped>\n",
       "    .dataframe tbody tr th:only-of-type {\n",
       "        vertical-align: middle;\n",
       "    }\n",
       "\n",
       "    .dataframe tbody tr th {\n",
       "        vertical-align: top;\n",
       "    }\n",
       "\n",
       "    .dataframe thead th {\n",
       "        text-align: right;\n",
       "    }\n",
       "</style>\n",
       "<table border=\"1\" class=\"dataframe\">\n",
       "  <thead>\n",
       "    <tr style=\"text-align: right;\">\n",
       "      <th></th>\n",
       "      <th>text</th>\n",
       "      <th>sentiment</th>\n",
       "    </tr>\n",
       "  </thead>\n",
       "  <tbody>\n",
       "    <tr>\n",
       "      <th>0</th>\n",
       "      <td>I bought both boxed sets, books 1-5.  Really a...</td>\n",
       "      <td>5.0</td>\n",
       "    </tr>\n",
       "    <tr>\n",
       "      <th>1</th>\n",
       "      <td>I enjoyed this short book. But it was way way ...</td>\n",
       "      <td>3.0</td>\n",
       "    </tr>\n",
       "    <tr>\n",
       "      <th>2</th>\n",
       "      <td>I love Nicholas Sparks. I&amp;#8217;ve read everyt...</td>\n",
       "      <td>4.0</td>\n",
       "    </tr>\n",
       "    <tr>\n",
       "      <th>3</th>\n",
       "      <td>I really enjoyed this adventure and look forwa...</td>\n",
       "      <td>4.0</td>\n",
       "    </tr>\n",
       "    <tr>\n",
       "      <th>4</th>\n",
       "      <td>It was a decent read.. typical story line. Not...</td>\n",
       "      <td>3.0</td>\n",
       "    </tr>\n",
       "  </tbody>\n",
       "</table>\n",
       "</div>"
      ],
      "text/plain": [
       "                                                text  sentiment\n",
       "0  I bought both boxed sets, books 1-5.  Really a...        5.0\n",
       "1  I enjoyed this short book. But it was way way ...        3.0\n",
       "2  I love Nicholas Sparks. I&#8217;ve read everyt...        4.0\n",
       "3  I really enjoyed this adventure and look forwa...        4.0\n",
       "4  It was a decent read.. typical story line. Not...        3.0"
      ]
     },
     "execution_count": 2,
     "metadata": {},
     "output_type": "execute_result"
    }
   ],
   "source": [
    "# Change columns name\n",
    "books_df.columns = ['text', 'sentiment']\n",
    "books_df.head()"
   ]
  },
  {
   "cell_type": "code",
   "execution_count": 3,
   "id": "290e0c95",
   "metadata": {},
   "outputs": [
    {
     "data": {
      "text/html": [
       "<div>\n",
       "<style scoped>\n",
       "    .dataframe tbody tr th:only-of-type {\n",
       "        vertical-align: middle;\n",
       "    }\n",
       "\n",
       "    .dataframe tbody tr th {\n",
       "        vertical-align: top;\n",
       "    }\n",
       "\n",
       "    .dataframe thead th {\n",
       "        text-align: right;\n",
       "    }\n",
       "</style>\n",
       "<table border=\"1\" class=\"dataframe\">\n",
       "  <thead>\n",
       "    <tr style=\"text-align: right;\">\n",
       "      <th></th>\n",
       "      <th>text</th>\n",
       "      <th>sentiment</th>\n",
       "    </tr>\n",
       "  </thead>\n",
       "  <tbody>\n",
       "    <tr>\n",
       "      <th>0</th>\n",
       "      <td>I bought both boxed sets, books 1-5.  Really a...</td>\n",
       "      <td>Positive</td>\n",
       "    </tr>\n",
       "    <tr>\n",
       "      <th>1</th>\n",
       "      <td>I enjoyed this short book. But it was way way ...</td>\n",
       "      <td>Neutral</td>\n",
       "    </tr>\n",
       "    <tr>\n",
       "      <th>2</th>\n",
       "      <td>I love Nicholas Sparks. I&amp;#8217;ve read everyt...</td>\n",
       "      <td>Positive</td>\n",
       "    </tr>\n",
       "    <tr>\n",
       "      <th>3</th>\n",
       "      <td>I really enjoyed this adventure and look forwa...</td>\n",
       "      <td>Positive</td>\n",
       "    </tr>\n",
       "    <tr>\n",
       "      <th>4</th>\n",
       "      <td>It was a decent read.. typical story line. Not...</td>\n",
       "      <td>Neutral</td>\n",
       "    </tr>\n",
       "  </tbody>\n",
       "</table>\n",
       "</div>"
      ],
      "text/plain": [
       "                                                text sentiment\n",
       "0  I bought both boxed sets, books 1-5.  Really a...  Positive\n",
       "1  I enjoyed this short book. But it was way way ...   Neutral\n",
       "2  I love Nicholas Sparks. I&#8217;ve read everyt...  Positive\n",
       "3  I really enjoyed this adventure and look forwa...  Positive\n",
       "4  It was a decent read.. typical story line. Not...   Neutral"
      ]
     },
     "execution_count": 3,
     "metadata": {},
     "output_type": "execute_result"
    }
   ],
   "source": [
    "for i in range(len(books_df)):\n",
    "    if books_df.iloc[i, 1] <= 2:\n",
    "        books_df.iloc[i, 1] = 'Negative'\n",
    "    elif 2 < books_df.iloc[i, 1] < 4:\n",
    "        books_df.iloc[i, 1] = 'Neutral'\n",
    "    else:\n",
    "        books_df.iloc[i, 1] = 'Positive'\n",
    "        \n",
    "books_df.head()"
   ]
  },
  {
   "cell_type": "code",
   "execution_count": 4,
   "id": "4272286b",
   "metadata": {},
   "outputs": [],
   "source": [
    "books_df = books_df[books_df.sentiment != 'Neutral']"
   ]
  },
  {
   "cell_type": "code",
   "execution_count": 5,
   "id": "e511341a",
   "metadata": {},
   "outputs": [],
   "source": [
    "X = books_df.text\n",
    "y = books_df.sentiment"
   ]
  },
  {
   "cell_type": "code",
   "execution_count": 6,
   "id": "a3f8bcbf",
   "metadata": {},
   "outputs": [
    {
     "name": "stdout",
     "output_type": "stream",
     "text": [
      "dict_items([('Positive', 8378), ('Negative', 644)])\n"
     ]
    }
   ],
   "source": [
    "print(Counter(y).items())"
   ]
  },
  {
   "cell_type": "markdown",
   "id": "ae85d615",
   "metadata": {},
   "source": [
    "### Bag of Words Vectorization"
   ]
  },
  {
   "cell_type": "code",
   "execution_count": 7,
   "id": "3dd8119c",
   "metadata": {},
   "outputs": [],
   "source": [
    "from sklearn.feature_extraction.text import CountVectorizer, TfidfVectorizer\n",
    "\n",
    "tfidf = TfidfVectorizer()\n",
    "X_tfidf = tfidf.fit_transform(X)\n",
    "y_tfidf = tfidf.fit_transform(y)"
   ]
  },
  {
   "cell_type": "markdown",
   "id": "271dbd8c",
   "metadata": {},
   "source": [
    "### UnderSampling Data"
   ]
  },
  {
   "cell_type": "code",
   "execution_count": 8,
   "id": "4c65f57d",
   "metadata": {},
   "outputs": [],
   "source": [
    "from imblearn.under_sampling import NearMiss\n",
    "\n",
    "nm = NearMiss(sampling_strategy='all')\n",
    "X_res, y_res = nm.fit_resample(X_tfidf, y_tfidf)"
   ]
  },
  {
   "cell_type": "code",
   "execution_count": 9,
   "id": "fa2b8082",
   "metadata": {},
   "outputs": [
    {
     "name": "stdout",
     "output_type": "stream",
     "text": [
      "dict_items([(0, 644), (1, 644)])\n"
     ]
    }
   ],
   "source": [
    "print(Counter(y_res[:,0]).items())"
   ]
  },
  {
   "cell_type": "markdown",
   "id": "e3cdfb58",
   "metadata": {},
   "source": [
    "### Preparation Data"
   ]
  },
  {
   "cell_type": "code",
   "execution_count": 10,
   "id": "5bda034c",
   "metadata": {},
   "outputs": [],
   "source": [
    "from sklearn.model_selection import train_test_split\n",
    "from sklearn.metrics import confusion_matrix, classification_report\n",
    "\n",
    "X_train, X_test, y_train, y_test = train_test_split(X_res, y_res, test_size=0.3, random_state=22)"
   ]
  },
  {
   "cell_type": "markdown",
   "id": "ed34152e",
   "metadata": {},
   "source": [
    "### Classification"
   ]
  },
  {
   "cell_type": "markdown",
   "id": "bb08f0f1",
   "metadata": {},
   "source": [
    "#### Linear SVM"
   ]
  },
  {
   "cell_type": "code",
   "execution_count": 11,
   "id": "93c96df4",
   "metadata": {},
   "outputs": [
    {
     "name": "stdout",
     "output_type": "stream",
     "text": [
      "[[175  24]\n",
      " [ 17 171]]\n",
      "              precision    recall  f1-score   support\n",
      "\n",
      "           0       0.91      0.88      0.90       199\n",
      "           1       0.88      0.91      0.89       188\n",
      "\n",
      "    accuracy                           0.89       387\n",
      "   macro avg       0.89      0.89      0.89       387\n",
      "weighted avg       0.89      0.89      0.89       387\n",
      "\n"
     ]
    }
   ],
   "source": [
    "from sklearn.svm import SVC\n",
    "\n",
    "books_svc = SVC(kernel='linear')\n",
    "books_svc.fit(X_train, y_train)\n",
    "\n",
    "y_pred_svc = books_svc.predict(X_test)\n",
    "\n",
    "print(confusion_matrix(y_test, y_pred_svc))\n",
    "print(classification_report(y_test, y_pred_svc))"
   ]
  },
  {
   "cell_type": "markdown",
   "id": "4886d612",
   "metadata": {},
   "source": [
    "#### Decision Tree"
   ]
  },
  {
   "cell_type": "code",
   "execution_count": 12,
   "id": "c4740fab",
   "metadata": {},
   "outputs": [
    {
     "name": "stdout",
     "output_type": "stream",
     "text": [
      "[[149  50]\n",
      " [ 53 135]]\n",
      "              precision    recall  f1-score   support\n",
      "\n",
      "           0       0.74      0.75      0.74       199\n",
      "           1       0.73      0.72      0.72       188\n",
      "\n",
      "    accuracy                           0.73       387\n",
      "   macro avg       0.73      0.73      0.73       387\n",
      "weighted avg       0.73      0.73      0.73       387\n",
      "\n"
     ]
    }
   ],
   "source": [
    "from sklearn.tree import DecisionTreeClassifier\n",
    "\n",
    "books_tree = DecisionTreeClassifier()\n",
    "books_tree.fit(X_train, y_train)\n",
    "\n",
    "y_pred_tree = books_tree.predict(X_test)\n",
    "\n",
    "print(confusion_matrix(y_test, y_pred_tree))\n",
    "print(classification_report(y_test, y_pred_tree))"
   ]
  },
  {
   "cell_type": "markdown",
   "id": "f825dfcd",
   "metadata": {},
   "source": [
    "#### Logistic Regression"
   ]
  },
  {
   "cell_type": "code",
   "execution_count": 13,
   "id": "1d530c95",
   "metadata": {},
   "outputs": [
    {
     "name": "stdout",
     "output_type": "stream",
     "text": [
      "[[168  31]\n",
      " [ 22 166]]\n",
      "              precision    recall  f1-score   support\n",
      "\n",
      "           0       0.88      0.84      0.86       199\n",
      "           1       0.84      0.88      0.86       188\n",
      "\n",
      "    accuracy                           0.86       387\n",
      "   macro avg       0.86      0.86      0.86       387\n",
      "weighted avg       0.86      0.86      0.86       387\n",
      "\n"
     ]
    }
   ],
   "source": [
    "from sklearn.linear_model import LogisticRegression\n",
    "\n",
    "books_reg = LogisticRegression()\n",
    "books_reg.fit(X_train, y_train)\n",
    "\n",
    "y_pred_reg = books_reg.predict(X_test)\n",
    "\n",
    "print(confusion_matrix(y_test, y_pred_reg))\n",
    "print(classification_report(y_test, y_pred_reg))"
   ]
  },
  {
   "cell_type": "markdown",
   "id": "d73b8b2f",
   "metadata": {},
   "source": [
    "#### Naive Bayes"
   ]
  },
  {
   "cell_type": "code",
   "execution_count": 14,
   "id": "83f087da",
   "metadata": {},
   "outputs": [
    {
     "name": "stdout",
     "output_type": "stream",
     "text": [
      "[[168  31]\n",
      " [ 22 166]]\n",
      "              precision    recall  f1-score   support\n",
      "\n",
      "           0       0.88      0.84      0.86       199\n",
      "           1       0.84      0.88      0.86       188\n",
      "\n",
      "    accuracy                           0.86       387\n",
      "   macro avg       0.86      0.86      0.86       387\n",
      "weighted avg       0.86      0.86      0.86       387\n",
      "\n"
     ]
    }
   ],
   "source": [
    "from sklearn.naive_bayes import GaussianNB\n",
    "\n",
    "books_nb = LogisticRegression()\n",
    "books_nb.fit(X_train, y_train)\n",
    "\n",
    "y_pred_nb = books_nb.predict(X_test)\n",
    "\n",
    "print(confusion_matrix(y_test, y_pred_nb))\n",
    "print(classification_report(y_test, y_pred_nb))"
   ]
  },
  {
   "cell_type": "markdown",
   "id": "8bd58ff4",
   "metadata": {},
   "source": [
    "### Evaluation"
   ]
  },
  {
   "cell_type": "markdown",
   "id": "118a520a",
   "metadata": {},
   "source": [
    "#### Mean Accuracy"
   ]
  },
  {
   "cell_type": "code",
   "execution_count": 15,
   "id": "197ffc4b",
   "metadata": {},
   "outputs": [
    {
     "name": "stdout",
     "output_type": "stream",
     "text": [
      "0.8940568475452196\n",
      "0.7338501291989664\n",
      "0.8630490956072352\n",
      "0.8630490956072352\n"
     ]
    }
   ],
   "source": [
    "print(books_svc.score(X_test, y_test))\n",
    "print(books_tree.score(X_test, y_test))\n",
    "print(books_reg.score(X_test, y_test))\n",
    "print(books_nb.score(X_test, y_test))"
   ]
  },
  {
   "cell_type": "markdown",
   "id": "499be6d6",
   "metadata": {},
   "source": [
    "#### F1 Score"
   ]
  },
  {
   "cell_type": "code",
   "execution_count": 16,
   "id": "0a3893d5",
   "metadata": {},
   "outputs": [
    {
     "name": "stdout",
     "output_type": "stream",
     "text": [
      "[0.89514066 0.89295039]\n",
      "[0.74314214 0.72386059]\n",
      "[0.86375321 0.86233766]\n",
      "[0.86375321 0.86233766]\n"
     ]
    }
   ],
   "source": [
    "from sklearn.metrics import f1_score\n",
    "\n",
    "print(f1_score(y_test, y_pred_svc, average=None))\n",
    "print(f1_score(y_test, y_pred_tree, average=None))\n",
    "print(f1_score(y_test, y_pred_reg, average=None))\n",
    "print(f1_score(y_test, y_pred_nb, average=None))"
   ]
  },
  {
   "cell_type": "markdown",
   "id": "12e0a79b",
   "metadata": {},
   "source": [
    "### Tuning Model With Grid Search"
   ]
  },
  {
   "cell_type": "code",
   "execution_count": 17,
   "id": "a6190465",
   "metadata": {},
   "outputs": [
    {
     "name": "stdout",
     "output_type": "stream",
     "text": [
      "{'C': 1, 'kernel': 'linear'}\n"
     ]
    }
   ],
   "source": [
    "from sklearn.model_selection import GridSearchCV\n",
    "\n",
    "parameters = {'kernel': ['linear', 'rbf'], 'C': [0.1, 1, 10, 100]}\n",
    "\n",
    "grid = GridSearchCV(SVC(), parameters, cv=5)\n",
    "grid.fit(X_train, y_train)\n",
    "\n",
    "print(grid.best_params_)"
   ]
  },
  {
   "cell_type": "markdown",
   "id": "91e13119",
   "metadata": {},
   "source": [
    "### Saving Model"
   ]
  },
  {
   "cell_type": "code",
   "execution_count": 19,
   "id": "1b4039a3",
   "metadata": {},
   "outputs": [
    {
     "data": {
      "text/plain": [
       "['model_sentiment.pkl']"
      ]
     },
     "execution_count": 19,
     "metadata": {},
     "output_type": "execute_result"
    }
   ],
   "source": [
    "import joblib\n",
    "\n",
    "joblib.dump(books_svc, filename='model_sentiment.pkl')"
   ]
  },
  {
   "cell_type": "markdown",
   "id": "abda504a",
   "metadata": {},
   "source": [
    "### Load Model"
   ]
  },
  {
   "cell_type": "code",
   "execution_count": 20,
   "id": "c83759e9",
   "metadata": {},
   "outputs": [],
   "source": [
    "loaded_books = joblib.load(filename='model_sentiment.pkl')"
   ]
  }
 ],
 "metadata": {
  "kernelspec": {
   "display_name": "Python 3",
   "language": "python",
   "name": "python3"
  },
  "language_info": {
   "codemirror_mode": {
    "name": "ipython",
    "version": 3
   },
   "file_extension": ".py",
   "mimetype": "text/x-python",
   "name": "python",
   "nbconvert_exporter": "python",
   "pygments_lexer": "ipython3",
   "version": "3.8.8"
  }
 },
 "nbformat": 4,
 "nbformat_minor": 5
}
